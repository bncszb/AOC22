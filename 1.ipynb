{
 "cells": [
  {
   "cell_type": "code",
   "execution_count": 25,
   "metadata": {},
   "outputs": [],
   "source": [
    "import aocd\n",
    "import numpy as np"
   ]
  },
  {
   "cell_type": "code",
   "execution_count": 20,
   "metadata": {},
   "outputs": [],
   "source": [
    "DAY=1\n",
    "YEAR=2022\n",
    "\n",
    "raw_data=aocd.get_data(day=DAY, year=YEAR)"
   ]
  },
  {
   "cell_type": "code",
   "execution_count": 26,
   "metadata": {},
   "outputs": [],
   "source": [
    "raw_by_elf=raw_data.split(\"\\n\\n\")\n",
    "packs_by_elf=[aocd.transforms.numbers(pack) for pack in raw_by_elf]\n",
    "cals_by_elf=[np.sum(np.array(pack)) for pack in packs_by_elf]\n"
   ]
  },
  {
   "cell_type": "code",
   "execution_count": 29,
   "metadata": {},
   "outputs": [
    {
     "name": "stdout",
     "output_type": "stream",
     "text": [
      "85\n",
      "70296\n"
     ]
    }
   ],
   "source": [
    "fatty=np.argmax(cals_by_elf)\n",
    "print(fatty)\n",
    "print(cals_by_elf[fatty])"
   ]
  },
  {
   "cell_type": "code",
   "execution_count": 38,
   "metadata": {},
   "outputs": [
    {
     "data": {
      "text/plain": [
       "205381"
      ]
     },
     "execution_count": 38,
     "metadata": {},
     "output_type": "execute_result"
    }
   ],
   "source": [
    "np.sum(np.sort(cals_by_elf)[::-1][:3])"
   ]
  },
  {
   "cell_type": "code",
   "execution_count": null,
   "metadata": {},
   "outputs": [],
   "source": []
  }
 ],
 "metadata": {
  "kernelspec": {
   "display_name": "Python 3.8.12 ('data_sandbox')",
   "language": "python",
   "name": "python3"
  },
  "language_info": {
   "codemirror_mode": {
    "name": "ipython",
    "version": 3
   },
   "file_extension": ".py",
   "mimetype": "text/x-python",
   "name": "python",
   "nbconvert_exporter": "python",
   "pygments_lexer": "ipython3",
   "version": "3.8.12"
  },
  "orig_nbformat": 4,
  "vscode": {
   "interpreter": {
    "hash": "13e921aefa40ca27cdd8ad5347ca86158ba7e0d448a9ad9c9c173c03160da306"
   }
  }
 },
 "nbformat": 4,
 "nbformat_minor": 2
}
