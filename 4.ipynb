{
 "cells": [
  {
   "cell_type": "code",
   "execution_count": 1,
   "metadata": {},
   "outputs": [],
   "source": [
    "import aocd\n",
    "import numpy as np\n"
   ]
  },
  {
   "cell_type": "code",
   "execution_count": 4,
   "metadata": {},
   "outputs": [],
   "source": [
    "DAY=4\n",
    "YEAR=2022\n",
    "\n",
    "raw_data=aocd.get_data(day=DAY, year=YEAR)\n",
    "data=aocd.transforms.lines(raw_data)"
   ]
  },
  {
   "cell_type": "code",
   "execution_count": 17,
   "metadata": {},
   "outputs": [
    {
     "data": {
      "text/plain": [
       "array([[48, 50, 48, 49],\n",
       "       [ 5, 89,  5,  5],\n",
       "       [17, 57, 55, 96],\n",
       "       [24, 67, 23, 25],\n",
       "       [89, 99, 11, 89],\n",
       "       [34, 71, 35, 71],\n",
       "       [13, 17, 16, 95],\n",
       "       [13, 93,  5, 12],\n",
       "       [11, 91,  1, 11],\n",
       "       [ 4, 81,  2, 11]])"
      ]
     },
     "execution_count": 17,
     "metadata": {},
     "output_type": "execute_result"
    }
   ],
   "source": [
    "data_num=np.array([aocd.transforms.numbers(row.replace(\"-\", \" \")) for row in data])\n",
    "data_num[:10]"
   ]
  },
  {
   "cell_type": "code",
   "execution_count": 21,
   "metadata": {},
   "outputs": [
    {
     "data": {
      "text/plain": [
       "array([[ True],\n",
       "       [ True],\n",
       "       [False],\n",
       "       [False],\n",
       "       [False],\n",
       "       [ True],\n",
       "       [False],\n",
       "       [False],\n",
       "       [False],\n",
       "       [False]])"
      ]
     },
     "execution_count": 21,
     "metadata": {},
     "output_type": "execute_result"
    }
   ],
   "source": [
    "contains=(data_num[:,0]<=data_num[:,2]) & (data_num[:,1]>=data_num[:,3]) | (data_num[:,2]<=data_num[:,0]) & (data_num[:,3]>=data_num[:,1])\n",
    "contains[:10].reshape(-1,1)"
   ]
  },
  {
   "cell_type": "code",
   "execution_count": 22,
   "metadata": {},
   "outputs": [
    {
     "data": {
      "text/plain": [
       "530"
      ]
     },
     "execution_count": 22,
     "metadata": {},
     "output_type": "execute_result"
    }
   ],
   "source": [
    "np.sum(contains)"
   ]
  },
  {
   "cell_type": "code",
   "execution_count": 25,
   "metadata": {},
   "outputs": [
    {
     "data": {
      "text/plain": [
       "array([[ True],\n",
       "       [ True],\n",
       "       [ True],\n",
       "       [ True],\n",
       "       [ True],\n",
       "       [ True],\n",
       "       [ True],\n",
       "       [False],\n",
       "       [ True],\n",
       "       [ True]])"
      ]
     },
     "execution_count": 25,
     "metadata": {},
     "output_type": "execute_result"
    }
   ],
   "source": [
    "intersect=((data_num[:,1]>=data_num[:,2]) & (data_num[:,0]<=data_num[:,3])) | ((data_num[:,3]>=data_num[:,0]) & (data_num[:,2]<=data_num[:,1])) \n",
    "intersect[:10].reshape(-1,1)"
   ]
  },
  {
   "cell_type": "code",
   "execution_count": 26,
   "metadata": {},
   "outputs": [
    {
     "data": {
      "text/plain": [
       "903"
      ]
     },
     "execution_count": 26,
     "metadata": {},
     "output_type": "execute_result"
    }
   ],
   "source": [
    "np.sum(intersect)"
   ]
  },
  {
   "cell_type": "code",
   "execution_count": null,
   "metadata": {},
   "outputs": [],
   "source": []
  }
 ],
 "metadata": {
  "kernelspec": {
   "display_name": "Python 3.8.12 ('data_sandbox')",
   "language": "python",
   "name": "python3"
  },
  "language_info": {
   "codemirror_mode": {
    "name": "ipython",
    "version": 3
   },
   "file_extension": ".py",
   "mimetype": "text/x-python",
   "name": "python",
   "nbconvert_exporter": "python",
   "pygments_lexer": "ipython3",
   "version": "3.8.12"
  },
  "orig_nbformat": 4,
  "vscode": {
   "interpreter": {
    "hash": "13e921aefa40ca27cdd8ad5347ca86158ba7e0d448a9ad9c9c173c03160da306"
   }
  }
 },
 "nbformat": 4,
 "nbformat_minor": 2
}
