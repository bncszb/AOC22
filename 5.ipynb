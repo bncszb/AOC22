{
 "cells": [
  {
   "cell_type": "code",
   "execution_count": 1,
   "metadata": {},
   "outputs": [],
   "source": [
    "import aocd\n",
    "import numpy as np"
   ]
  },
  {
   "cell_type": "code",
   "execution_count": 60,
   "metadata": {},
   "outputs": [],
   "source": [
    "DAY=5\n",
    "YEAR=2022\n",
    "\n",
    "raw_data=aocd.get_data(day=DAY, year=YEAR)\n",
    "\n",
    "setup, steps = raw_data.split(\"\\n\\n\")\n",
    "setup=aocd.transforms.lines(setup)\n",
    "number_of_stacks=max(aocd.transforms.numbers(setup.pop(-1)))\n",
    "\n",
    "steps=aocd.transforms.lines(steps)\n"
   ]
  },
  {
   "cell_type": "code",
   "execution_count": 84,
   "metadata": {},
   "outputs": [
    {
     "data": {
      "text/plain": [
       "['                        [R] [J] [W]',\n",
       " '            [R] [N]     [T] [T] [C]',\n",
       " '[R]         [P] [G]     [J] [P] [T]',\n",
       " '[Q]     [C] [M] [V]     [F] [F] [H]',\n",
       " '[G] [P] [M] [S] [Z]     [Z] [C] [Q]',\n",
       " '[P] [C] [P] [Q] [J] [J] [P] [H] [Z]',\n",
       " '[C] [T] [H] [T] [H] [P] [G] [L] [V]',\n",
       " '[F] [W] [B] [L] [P] [D] [L] [N] [G]']"
      ]
     },
     "execution_count": 84,
     "metadata": {},
     "output_type": "execute_result"
    }
   ],
   "source": [
    "setup"
   ]
  },
  {
   "cell_type": "code",
   "execution_count": 99,
   "metadata": {},
   "outputs": [
    {
     "data": {
      "text/plain": [
       "'DHBJQJCCW'"
      ]
     },
     "execution_count": 99,
     "metadata": {},
     "output_type": "execute_result"
    }
   ],
   "source": [
    "def move_stack_9000(instruction, stacks):\n",
    "    M,F,T=aocd.transforms.numbers(instruction)\n",
    "\n",
    "    F-=1\n",
    "    T-=1\n",
    "    \n",
    "    moved=stacks[F][-1:-M-1:-1]\n",
    "    stacks[F]=stacks[F][:-M]\n",
    "    stacks[T]+=moved\n",
    "\n",
    "stacks=[ \"\" for _ in range(number_of_stacks)]\n",
    "\n",
    "for l in reversed(setup):\n",
    "    for i, c in enumerate(l[1::4]):\n",
    "        if c.isalpha():\n",
    "            stacks[i]+=c\n",
    "\n",
    "for step in steps:\n",
    "    move_stack_9000(step,stacks)\n",
    "\n",
    "top=\"\"\n",
    "for s in stacks:\n",
    "    top+=s[-1]\n",
    "top"
   ]
  },
  {
   "cell_type": "code",
   "execution_count": 98,
   "metadata": {},
   "outputs": [
    {
     "data": {
      "text/plain": [
       "'WJVRLSJJT'"
      ]
     },
     "execution_count": 98,
     "metadata": {},
     "output_type": "execute_result"
    }
   ],
   "source": [
    "def move_stack_9001(instruction, stacks):\n",
    "    M,F,T=aocd.transforms.numbers(instruction)\n",
    "\n",
    "    F-=1\n",
    "    T-=1\n",
    "    \n",
    "    moved=stacks[F][-M:]\n",
    "    stacks[F]=stacks[F][:-M]\n",
    "    stacks[T]+=moved\n",
    "\n",
    "stacks=[ \"\" for _ in range(number_of_stacks)]\n",
    "\n",
    "for l in reversed(setup):\n",
    "    for i, c in enumerate(l[1::4]):\n",
    "        if c.isalpha():\n",
    "            stacks[i]+=c\n",
    "\n",
    "for step in steps:\n",
    "    move_stack_9001(step,stacks)\n",
    "\n",
    "top=\"\"\n",
    "for s in stacks:\n",
    "    top+=s[-1]\n",
    "top"
   ]
  },
  {
   "cell_type": "code",
   "execution_count": null,
   "metadata": {},
   "outputs": [],
   "source": []
  }
 ],
 "metadata": {
  "kernelspec": {
   "display_name": "Python 3.8.12 ('data_sandbox')",
   "language": "python",
   "name": "python3"
  },
  "language_info": {
   "codemirror_mode": {
    "name": "ipython",
    "version": 3
   },
   "file_extension": ".py",
   "mimetype": "text/x-python",
   "name": "python",
   "nbconvert_exporter": "python",
   "pygments_lexer": "ipython3",
   "version": "3.8.12"
  },
  "orig_nbformat": 4,
  "vscode": {
   "interpreter": {
    "hash": "13e921aefa40ca27cdd8ad5347ca86158ba7e0d448a9ad9c9c173c03160da306"
   }
  }
 },
 "nbformat": 4,
 "nbformat_minor": 2
}
